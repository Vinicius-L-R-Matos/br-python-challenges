{
  "cells": [
    {
      "cell_type": "markdown",
      "metadata": {
        "id": "view-in-github",
        "colab_type": "text"
      },
      "source": [
        "<a href=\"https://colab.research.google.com/github/Vinicius-L-R-Matos/br-python-challenges/blob/master/Desafio_08.ipynb\" target=\"_parent\"><img src=\"https://colab.research.google.com/assets/colab-badge.svg\" alt=\"Open In Colab\"/></a>"
      ]
    },
    {
      "cell_type": "markdown",
      "metadata": {
        "id": "o3tkeMDNf6Jo"
      },
      "source": [
        "### Desafio 8\n",
        "\n",
        "Escreva um script Python para encontrar as 10 palavras mais longas em um arquivo de texto.\n",
        "O arquivo .txt está localizado na mesma pasta do projeto (**texto.txt**)."
      ]
    },
    {
      "cell_type": "code",
      "execution_count": 4,
      "metadata": {
        "colab": {
          "base_uri": "https://localhost:8080/"
        },
        "id": "EknxjSG0f6Jo",
        "outputId": "2ade377e-2ff5-470e-aab4-a81cc376d3aa"
      },
      "outputs": [
        {
          "output_type": "stream",
          "name": "stdout",
          "text": [
            "comprehensive 13\n",
            "intermediate 12\n",
            "interpreted 11\n",
            "programming 11\n",
            "readability 11\n",
            "programmers 11\n",
            "philosophy 10\n",
            "emphasizes 10\n",
            "imperative 10\n",
            "functional 10\n"
          ]
        }
      ],
      "source": [
        "from operator import itemgetter\n",
        "with open('texto.txt', 'r') as f:\n",
        "    dic = {}    \n",
        "    conteudo = f.read().replace('.', ' ').replace('-', ' ').replace(',', ' ').replace(')', ' ')\n",
        "    for palavra in conteudo.split():\n",
        "        dic[f'{palavra}'] = len(palavra)\n",
        "        ordem = sorted(dic.items(), key=itemgetter(1), reverse=True)\n",
        "    for k, v in enumerate(ordem):\n",
        "        if k < 10:\n",
        "            print(v[0], v[1])"
      ]
    },
    {
      "cell_type": "code",
      "source": [
        "# importando biblioteca de importação txt: \n",
        "from operator import itemgetter"
      ],
      "metadata": {
        "id": "5qpeDCJ_ap63"
      },
      "execution_count": 5,
      "outputs": []
    },
    {
      "cell_type": "code",
      "execution_count": 9,
      "metadata": {
        "colab": {
          "base_uri": "https://localhost:8080/"
        },
        "id": "ZYbqEWBG5nKx",
        "outputId": "b093103f-ba2d-47e6-c6b0-da1a99aa1b1e"
      },
      "outputs": [
        {
          "output_type": "stream",
          "name": "stdout",
          "text": [
            "comprehensive 13\n",
            "intermediate 12\n",
            "interpreted 11\n",
            "programming 11\n",
            "readability 11\n",
            "programmers 11\n",
            "philosophy 10\n",
            "emphasizes 10\n",
            "imperative 10\n",
            "functional 10\n"
          ]
        }
      ],
      "source": [
        "# abrindo arquivo e nomenado como variável:\n",
        "with open('texto.txt', 'r') as f:\n",
        "\n",
        "# criando variável para armazenar informação nova: \n",
        "    dic = {}\n",
        "\n",
        "# lendo o texto e substituindo pontos, traços, virgulas e aspas por palavras:   \n",
        "    conteudo = f.read().replace('.', ' ').replace('-', ' ').replace(',', ' ').replace(')', ' ')\n",
        "\n",
        "# anaizando cada item do dicionário: \n",
        "    for palavra in conteudo.split():\n",
        "\n",
        "# armazenarndo cada palavra com seu tamanho correspondente (declarando oque sera key e value):\n",
        "        dic[f'{palavra}'] = len(palavra)\n",
        "\n",
        "# definindo a ordenação do dicionário: \n",
        "        ordem = sorted(dic.items(), key=itemgetter(1), reverse=True)\n",
        "\n",
        "# filtrando aqueles itens que correspondem a contagem de tamanho:\n",
        "\n",
        "    for k, v in enumerate(ordem):\n",
        "        if k < 10:\n",
        "            print(v[0], v[1])"
      ]
    },
    {
      "cell_type": "code",
      "source": [
        "# verificando o dicionário:\n",
        "print(len(dic))\n",
        "print(dic)\n",
        "\n"
      ],
      "metadata": {
        "id": "BcmfZ4I1c3cp",
        "outputId": "ac9570c4-c086-42a9-bb9f-8d011056318e",
        "colab": {
          "base_uri": "https://localhost:8080/"
        }
      },
      "execution_count": 12,
      "outputs": [
        {
          "output_type": "stream",
          "name": "stdout",
          "text": [
            "86\n",
            "{'What': 4, 'is': 2, 'Python': 6, 'language?': 9, 'a': 1, 'widely': 6, 'used': 4, 'high': 4, 'level': 5, 'general': 7, 'purpose': 7, 'interpreted': 11, 'dynamic': 7, 'programming': 11, 'language': 8, 'Its': 3, 'design': 6, 'philosophy': 10, 'emphasizes': 10, 'code': 4, 'readability': 11, 'and': 3, 'its': 3, 'syntax': 6, 'allows': 6, 'programmers': 11, 'to': 2, 'express': 7, 'concepts': 8, 'in': 2, 'fewer': 5, 'lines': 5, 'of': 2, 'than': 4, 'possible': 8, 'languages': 9, 'such': 4, 'as': 2, 'C++': 3, 'or': 2, 'Java': 4, 'supports': 8, 'multiple': 8, 'paradigms': 9, 'including': 9, 'object': 6, 'oriented': 8, 'imperative': 10, 'functional': 10, 'procedural': 10, 'styles': 6, 'It': 2, 'features': 8, 'type': 4, 'system': 6, 'automatic': 9, 'memory': 6, 'management': 10, 'has': 3, 'large': 5, 'comprehensive': 13, 'standard': 8, 'library': 7, 'The': 3, 'best': 4, 'way': 3, 'we': 2, 'learn': 5, 'anything': 8, 'by': 2, 'practice': 8, 'exercise': 8, 'questions': 9, 'We': 2, 'have': 4, 'started': 7, 'this': 4, 'section': 7, 'for': 3, 'those': 5, '(beginner': 9, 'intermediate': 12, 'who': 3, 'are': 3, 'familiar': 8, 'with': 4}\n"
          ]
        }
      ]
    }
  ],
  "metadata": {
    "anaconda-cloud": {},
    "colab": {
      "name": "Desafio 8.ipynb",
      "provenance": [],
      "include_colab_link": true
    },
    "kernelspec": {
      "display_name": "Python 3",
      "language": "python",
      "name": "python3"
    },
    "language_info": {
      "codemirror_mode": {
        "name": "ipython",
        "version": 3
      },
      "file_extension": ".py",
      "mimetype": "text/x-python",
      "name": "python",
      "nbconvert_exporter": "python",
      "pygments_lexer": "ipython3",
      "version": "3.7.9"
    }
  },
  "nbformat": 4,
  "nbformat_minor": 0
}