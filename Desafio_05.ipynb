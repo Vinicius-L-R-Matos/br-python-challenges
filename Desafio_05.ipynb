{
  "cells": [
    {
      "cell_type": "markdown",
      "metadata": {
        "id": "view-in-github",
        "colab_type": "text"
      },
      "source": [
        "<a href=\"https://colab.research.google.com/github/Vinicius-L-R-Matos/br-python-challenges/blob/master/Desafio_05.ipynb\" target=\"_parent\"><img src=\"https://colab.research.google.com/assets/colab-badge.svg\" alt=\"Open In Colab\"/></a>"
      ]
    },
    {
      "cell_type": "markdown",
      "metadata": {
        "id": "gQbaWOWcW1g_"
      },
      "source": [
        "# Desafio 5\n",
        "Você trabalha em uma loja de sapatos e deve contatar uma série de clientes. Seus números de telefone estão na lista abaixo. No entanto, é possível notar números duplicados na lista dada. Você seria capaz de remover estes duplicados para evitar que clientes sejam contatados mais de uma vez?"
      ]
    },
    {
      "cell_type": "code",
      "execution_count": 1,
      "metadata": {
        "id": "T68FjcUmWear"
      },
      "outputs": [],
      "source": [
        "numeros_telefone = [\n",
        "'(765) 368-1506',\n",
        "'(285) 608-2448',\n",
        "'(255) 826-9050',\n",
        "'(554) 994-1517',\n",
        "'(285) 608-2448',\n",
        "'(596) 336-5508',\n",
        "'(511) 821-7870',\n",
        "'(410) 665-4447',\n",
        "'(821) 642-8987',\n",
        "'(285) 608-2448',\n",
        "'(311) 799-3883',\n",
        "'(935) 875-2054',\n",
        "'(464) 788-2397',\n",
        "'(765) 368-1506',\n",
        "'(650) 684-1437',\n",
        "'(812) 816-0881',\n",
        "'(285) 608-2448',\n",
        "'(885) 407-1719',\n",
        "'(943) 769-1061',\n",
        "'(596) 336-5508',\n",
        "'(765) 368-1506',\n",
        "'(255) 826-9050',\n",
        "]"
      ]
    },
    {
      "cell_type": "code",
      "execution_count": 2,
      "metadata": {
        "colab": {
          "base_uri": "https://localhost:8080/"
        },
        "id": "F8n1sN-4XrW3",
        "outputId": "0f9b837f-0534-4fa4-a15d-d872f6c11ca1"
      },
      "outputs": [
        {
          "output_type": "stream",
          "name": "stdout",
          "text": [
            "{'(596) 336-5508', '(765) 368-1506', '(935) 875-2054', '(943) 769-1061', '(464) 788-2397', '(821) 642-8987', '(650) 684-1437', '(812) 816-0881', '(554) 994-1517', '(285) 608-2448', '(311) 799-3883', '(410) 665-4447', '(885) 407-1719', '(255) 826-9050', '(511) 821-7870'}\n",
            "15\n",
            "22\n"
          ]
        }
      ],
      "source": [
        "#transformando em array e usando 'set()'\n",
        "u = set(numeros_telefone)\n",
        "print(u)\n",
        "print(len(u))\n",
        "print(len(numeros_telefone))"
      ]
    },
    {
      "cell_type": "code",
      "source": [
        "#convertendo para lista\n",
        "lu = list(u)\n",
        "print(lu)"
      ],
      "metadata": {
        "id": "FJgcGG0eVlqA",
        "outputId": "9839225e-d29f-49a6-c3d5-8e9ff164ab75",
        "colab": {
          "base_uri": "https://localhost:8080/"
        }
      },
      "execution_count": 3,
      "outputs": [
        {
          "output_type": "stream",
          "name": "stdout",
          "text": [
            "['(596) 336-5508', '(765) 368-1506', '(935) 875-2054', '(943) 769-1061', '(464) 788-2397', '(821) 642-8987', '(650) 684-1437', '(812) 816-0881', '(554) 994-1517', '(285) 608-2448', '(311) 799-3883', '(410) 665-4447', '(885) 407-1719', '(255) 826-9050', '(511) 821-7870']\n"
          ]
        }
      ]
    },
    {
      "cell_type": "code",
      "source": [
        "# conferindo:\n",
        "print('tamanho original', len(numeros_telefone))\n",
        "print(\"números repetidos: \", int(len(numeros_telefone)) - int(len(lu)))\n",
        "print(\"números únicos: \", len(lu))\n",
        "print(lu)"
      ],
      "metadata": {
        "id": "7BaEMnnuVopn",
        "outputId": "f33acfcb-9773-4f5c-8e81-bb07aac8e74e",
        "colab": {
          "base_uri": "https://localhost:8080/"
        }
      },
      "execution_count": 7,
      "outputs": [
        {
          "output_type": "stream",
          "name": "stdout",
          "text": [
            "tamanho original 22\n",
            "números repetidos:  7\n",
            "números únicos:  15\n",
            "['(596) 336-5508', '(765) 368-1506', '(935) 875-2054', '(943) 769-1061', '(464) 788-2397', '(821) 642-8987', '(650) 684-1437', '(812) 816-0881', '(554) 994-1517', '(285) 608-2448', '(311) 799-3883', '(410) 665-4447', '(885) 407-1719', '(255) 826-9050', '(511) 821-7870']\n"
          ]
        }
      ]
    }
  ],
  "metadata": {
    "colab": {
      "name": "Desafio 5.ipynb",
      "provenance": [],
      "include_colab_link": true
    },
    "kernelspec": {
      "display_name": "Python 3",
      "language": "python",
      "name": "python3"
    },
    "language_info": {
      "codemirror_mode": {
        "name": "ipython",
        "version": 3
      },
      "file_extension": ".py",
      "mimetype": "text/x-python",
      "name": "python",
      "nbconvert_exporter": "python",
      "pygments_lexer": "ipython3",
      "version": "3.7.9"
    }
  },
  "nbformat": 4,
  "nbformat_minor": 0
}