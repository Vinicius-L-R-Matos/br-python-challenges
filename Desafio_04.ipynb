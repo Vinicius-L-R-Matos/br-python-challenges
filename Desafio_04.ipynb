{
  "cells": [
    {
      "cell_type": "markdown",
      "metadata": {
        "id": "view-in-github",
        "colab_type": "text"
      },
      "source": [
        "<a href=\"https://colab.research.google.com/github/Vinicius-L-R-Matos/br-python-challenges/blob/master/Desafio_04.ipynb\" target=\"_parent\"><img src=\"https://colab.research.google.com/assets/colab-badge.svg\" alt=\"Open In Colab\"/></a>"
      ]
    },
    {
      "cell_type": "markdown",
      "metadata": {
        "id": "dOqcKUYZf6JW"
      },
      "source": [
        "### Desafio 4\n",
        "\n",
        "Escreva uma função cuja entrada é uma string e a saída é outra string com as palavras em ordem inversa.\n",
        "\n",
        "Exemplo:\n",
        "\n",
        "inverte_texto(\"Python é legal\") ➞ \"legal é Python\""
      ]
    },
    {
      "cell_type": "code",
      "source": [
        "frase = 'Teremos jogo hoje à noite'"
      ],
      "metadata": {
        "id": "_YwNd-3AU-17"
      },
      "execution_count": 1,
      "outputs": []
    },
    {
      "cell_type": "code",
      "execution_count": 2,
      "metadata": {
        "colab": {
          "base_uri": "https://localhost:8080/"
        },
        "id": "I5TInJDaf6JW",
        "outputId": "d3472c9a-60c0-4627-844f-188345b73036"
      },
      "outputs": [
        {
          "output_type": "stream",
          "name": "stdout",
          "text": [
            "A Frase invertida ficou assim:  noite à hoje jogo Teremos\n",
            "Tamanho da Frase:  5 palavras\n"
          ]
        }
      ],
      "source": [
        "\n",
        "#Verifica o tamanho da frase\n",
        "tamanho = len(frase.split())\n",
        "\n",
        "#Coloca as palavras da frase em uma lista \n",
        "lista = frase.split()\n",
        "\n",
        "#Cria variável\n",
        "lista_nova = \"\"\n",
        "\n",
        "#Cria lista inversa\n",
        "lista_nova = lista[::-1]\n",
        "\n",
        "#Transforma a lista inversa em uma string\n",
        "frase_invertida = ' '.join(lista_nova)\n",
        "\n",
        "#Imprime a frase invertida\n",
        "print('A Frase invertida ficou assim: ', frase_invertida)\n",
        "\n",
        "print('Tamanho da Frase: ', tamanho, 'palavras')"
      ]
    },
    {
      "cell_type": "code",
      "source": [
        "# simplificado:\n",
        "\n",
        "tamanho = len(frase.split())\n",
        "lista = frase.split()\n",
        "lista_nova = \"\"\n",
        "lista_nova = lista[::-1]\n",
        "frase_invertida = ' '.join(lista_nova)\n",
        "print('A Frase invertida ficou assim: ', frase_invertida)\n",
        "print('Tamanho da Frase: ', tamanho, 'palavras')\n"
      ],
      "metadata": {
        "id": "nHSVoLDFVB0W",
        "outputId": "8f44c3b9-e8e8-434c-dd47-3d1fa537c7b0",
        "colab": {
          "base_uri": "https://localhost:8080/"
        }
      },
      "execution_count": 3,
      "outputs": [
        {
          "output_type": "stream",
          "name": "stdout",
          "text": [
            "A Frase invertida ficou assim:  noite à hoje jogo Teremos\n",
            "Tamanho da Frase:  5 palavras\n"
          ]
        }
      ]
    }
  ],
  "metadata": {
    "anaconda-cloud": {},
    "colab": {
      "name": "Desafio 4.ipynb",
      "provenance": [],
      "include_colab_link": true
    },
    "kernelspec": {
      "display_name": "Python 3",
      "language": "python",
      "name": "python3"
    },
    "language_info": {
      "codemirror_mode": {
        "name": "ipython",
        "version": 3
      },
      "file_extension": ".py",
      "mimetype": "text/x-python",
      "name": "python",
      "nbconvert_exporter": "python",
      "pygments_lexer": "ipython3",
      "version": "3.7.9"
    }
  },
  "nbformat": 4,
  "nbformat_minor": 0
}