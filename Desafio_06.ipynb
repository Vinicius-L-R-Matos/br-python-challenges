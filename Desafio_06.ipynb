{
  "cells": [
    {
      "cell_type": "markdown",
      "metadata": {
        "id": "view-in-github",
        "colab_type": "text"
      },
      "source": [
        "<a href=\"https://colab.research.google.com/github/Vinicius-L-R-Matos/br-python-challenges/blob/master/Desafio_06.ipynb\" target=\"_parent\"><img src=\"https://colab.research.google.com/assets/colab-badge.svg\" alt=\"Open In Colab\"/></a>"
      ]
    },
    {
      "cell_type": "markdown",
      "metadata": {
        "id": "AiI1_KNTf6Jh"
      },
      "source": [
        "### Desafio 6\n",
        "\n",
        "Crie uma função que receba duas listas e retorne uma lista que contenha apenas os elementos comuns entre as listas (sem repetição). A função deve suportar lista de tamanhos diferentes.\n"
      ]
    },
    {
      "cell_type": "markdown",
      "metadata": {
        "id": "ekgayowkWgQ1"
      },
      "source": [
        "**Listas**"
      ]
    },
    {
      "cell_type": "code",
      "execution_count": 1,
      "metadata": {
        "id": "i9q7PmrRWgQ2"
      },
      "outputs": [],
      "source": [
        "a = [1, 1, 2, 3, 5, 8, 13, 21, 34, 55, 89]\n",
        "b = [1, 2, 3, 4, 5, 6, 7, 8, 9, 10, 11, 12, 13]"
      ]
    },
    {
      "cell_type": "code",
      "execution_count": 2,
      "metadata": {
        "colab": {
          "base_uri": "https://localhost:8080/"
        },
        "id": "mvxpy_vCf6Jh",
        "outputId": "c4db94f5-1dc8-4d44-9ecb-a4ca76067bf0"
      },
      "outputs": [
        {
          "output_type": "stream",
          "name": "stdout",
          "text": [
            "{1, 2, 3, 5, 8, 13}\n"
          ]
        }
      ],
      "source": [
        "# solução mais simples:\n",
        "i = set(a) & set(b)\n",
        "print(i)"
      ]
    },
    {
      "cell_type": "markdown",
      "source": [
        "Operadores de join de lista como sets:\n",
        "\n",
        "- & = itens comuns\n",
        "- | = itens exclussivos\n",
        "- ^ = só tem 1a\n",
        "- = só na 2a"
      ],
      "metadata": {
        "id": "ixSBocS7WsJk"
      }
    },
    {
      "cell_type": "code",
      "execution_count": 3,
      "metadata": {
        "colab": {
          "base_uri": "https://localhost:8080/"
        },
        "id": "ly-N_Aq624RQ",
        "outputId": "bd7950e0-c043-49c7-ea93-03731e99c69f"
      },
      "outputs": [
        {
          "output_type": "stream",
          "name": "stdout",
          "text": [
            "append:  1\n",
            "[1]\n",
            "append:  2\n",
            "[1, 2]\n",
            "append:  3\n",
            "[1, 2, 3]\n",
            "append:  5\n",
            "[1, 2, 3, 5]\n",
            "append:  8\n",
            "[1, 2, 3, 5, 8]\n",
            "append:  13\n",
            "[1, 2, 3, 5, 8, 13]\n",
            "argumentos comuns:  [1, 2, 3, 5, 8, 13]\n"
          ]
        }
      ],
      "source": [
        "# solução mais completa:\n",
        "comuns = []\n",
        "def uniao(x,y):\n",
        "  if len(y) > len(x):\n",
        "    for i in y:\n",
        "      if i in x:\n",
        "        comuns.append(i)\n",
        "        print(\"append: \",i)\n",
        "        print(comuns)\n",
        "  else:\n",
        "    for i in x:\n",
        "      if i in y:\n",
        "        comuns.append(i)\n",
        "        print(\"append: \",i)\n",
        "        print(comuns)\n",
        "\n",
        "uniao(a,b)\n",
        "\n",
        "print(\"argumentos comuns: \", comuns)"
      ]
    },
    {
      "cell_type": "code",
      "source": [
        "# comando linear, iterada, restringido, encapsulado, simple if:\n",
        "c = [x for x in b if x in a]\n",
        "print(c)"
      ],
      "metadata": {
        "id": "d6nnyv9pW77S",
        "outputId": "2e509568-3072-485a-fdfc-00ca8b1f6532",
        "colab": {
          "base_uri": "https://localhost:8080/"
        }
      },
      "execution_count": 5,
      "outputs": [
        {
          "output_type": "stream",
          "name": "stdout",
          "text": [
            "[1, 2, 3, 5, 8, 13]\n"
          ]
        }
      ]
    },
    {
      "cell_type": "code",
      "source": [
        "# de modo a funcionar, não importanto qual das lista for a maior:\n",
        "f = [x for x in b if x in a and x in b]\n",
        "\n",
        "print(set(f))"
      ],
      "metadata": {
        "id": "WngShM7wXHnK",
        "outputId": "e20cc31a-311b-46e2-b879-499c8290af91",
        "colab": {
          "base_uri": "https://localhost:8080/"
        }
      },
      "execution_count": 6,
      "outputs": [
        {
          "output_type": "stream",
          "name": "stdout",
          "text": [
            "{1, 2, 3, 5, 8, 13}\n"
          ]
        }
      ]
    }
  ],
  "metadata": {
    "anaconda-cloud": {},
    "colab": {
      "name": "Desafio 6.ipynb",
      "provenance": [],
      "include_colab_link": true
    },
    "kernelspec": {
      "display_name": "Python 3",
      "language": "python",
      "name": "python3"
    },
    "language_info": {
      "codemirror_mode": {
        "name": "ipython",
        "version": 3
      },
      "file_extension": ".py",
      "mimetype": "text/x-python",
      "name": "python",
      "nbconvert_exporter": "python",
      "pygments_lexer": "ipython3",
      "version": "3.7.9"
    }
  },
  "nbformat": 4,
  "nbformat_minor": 0
}